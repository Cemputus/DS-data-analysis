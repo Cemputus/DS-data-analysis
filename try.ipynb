{
 "cells": [
  {
   "cell_type": "code",
   "execution_count": 1,
   "metadata": {},
   "outputs": [],
   "source": [
    "import pandas as pd"
   ]
  },
  {
   "cell_type": "code",
   "execution_count": null,
   "metadata": {},
   "outputs": [],
   "source": [
    "data = pd.read_csv('NetflixOriginals.csv')\n",
    "data"
   ]
  },
  {
   "cell_type": "code",
   "execution_count": null,
   "metadata": {},
   "outputs": [],
   "source": [
    "def fill_missing_na(df,strategy = 'mean'):\n",
    "    num_cols = df.select_dtypes(include=['int64','float64']).columns\n",
    "    cat_cols = df.select_dtypes(include=['object','category']).columns\n",
    "    if strategy == 'mean':\n",
    "        df[num_cols] = df[num_cols].fillna(df[num_cols].mean())\n",
    "    elif strategy == 'median':\n",
    "        df[num_cols] = df[num_cols].fillna(df[num_cols].median())\n",
    "    elif strategy == 'mode':\n",
    "        df[cat_cols] = df[cat_cols].fillna(df[cat_cols].mode().iloc[0])\n",
    "    return df\n",
    "\n",
    "print(f'The columns with missing values are \\n {df.isna().sum()}')"
   ]
  },
  {
   "cell_type": "code",
   "execution_count": null,
   "metadata": {},
   "outputs": [],
   "source": [
    "def fill_numerical_missing(df, strategy='mean'):\n",
    "    # Get the numerical columns\n",
    "    num_cols = df.select_dtypes(include=['int64', 'float64']).columns\n",
    "    \n",
    "    # Fill in missing values based on the specified strategy\n",
    "    if strategy == 'mean':\n",
    "        df[num_cols] = df[num_cols].fillna(df[num_cols].mean())\n",
    "    elif strategy == 'median':\n",
    "        df[num_cols] = df[num_cols].fillna(df[num_cols].median())\n",
    "    elif strategy == 'mode':\n",
    "        df[num_cols] = df[num_cols].fillna(df[num_cols].mode().iloc[0])\n",
    "    else:\n",
    "        raise ValueError(\"Invalid strategy. Supported strategies are 'mean', 'median', and 'mode'.\")\n",
    "    \n",
    "    return df"
   ]
  }
 ],
 "metadata": {
  "kernelspec": {
   "display_name": "Python 3",
   "language": "python",
   "name": "python3"
  },
  "language_info": {
   "codemirror_mode": {
    "name": "ipython",
    "version": 3
   },
   "file_extension": ".py",
   "mimetype": "text/x-python",
   "name": "python",
   "nbconvert_exporter": "python",
   "pygments_lexer": "ipython3",
   "version": "3.12.1"
  }
 },
 "nbformat": 4,
 "nbformat_minor": 2
}
